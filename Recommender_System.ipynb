{
 "cells": [
  {
   "cell_type": "markdown",
   "metadata": {},
   "source": [
    "#### Instructions:\n",
    "- Data can be downloaded [here](https://www.kaggle.com/datasets/rounakbanik/the-movies-dataset)\n",
    "- Make sure the data is stored in folder *Data* in same directory as this notebook \n",
    "- Python libraries are a part of the Anaconda distribution, except mlxtend (pip install mlxtend)\n",
    "- When using full dataset for ratings you need large RAM, especially because of apriori algorithm\n",
    "- Run cells sequentially (or press Run All)"
   ]
  },
  {
   "cell_type": "markdown",
   "metadata": {},
   "source": [
    "# Recommender System"
   ]
  },
  {
   "cell_type": "code",
   "execution_count": 1,
   "metadata": {},
   "outputs": [],
   "source": [
    "## Installs\n",
    "#%pip install mlxtend\n",
    "\n",
    "## Imports\n",
    "\n",
    "import pandas as pd\n",
    "import numpy as np\n",
    "import matplotlib.pyplot as plt\n",
    "from enum import Enum\n",
    "from mlxtend.preprocessing import TransactionEncoder\n",
    "from mlxtend.frequent_patterns import fpgrowth, association_rules\n",
    "import ast\n",
    "from itertools import combinations\n",
    "from sklearn.feature_extraction.text import CountVectorizer\n",
    "from scipy.sparse.linalg import norm"
   ]
  },
  {
   "cell_type": "markdown",
   "metadata": {},
   "source": [
    "## Loading data and preliminary preprocess"
   ]
  },
  {
   "cell_type": "code",
   "execution_count": 2,
   "metadata": {},
   "outputs": [],
   "source": [
    "## Load data\n",
    "\n",
    "ratings = pd.read_csv(\"Data/ratings_small.csv\")\n",
    "movies = pd.read_csv(\"Data/movies_metadata.csv\", usecols=['genres', 'id', 'original_language', 'overview',\n",
    "                       'popularity', 'title'], low_memory=False)\n",
    "links = pd.read_csv(\"Data/links_small.csv\")\n",
    "keywords = pd.read_csv('Data/keywords.csv')\n",
    "credits = pd.read_csv('Data/credits.csv')"
   ]
  },
  {
   "cell_type": "code",
   "execution_count": 3,
   "metadata": {},
   "outputs": [],
   "source": [
    "## Preprocess credits\n",
    "\n",
    "# id to integer\n",
    "credits['id'] = pd.to_numeric(credits['id'])\n",
    "credits.drop_duplicates('id', inplace=True)\n",
    "\n",
    "# String to list\n",
    "credits['cast'] = credits['cast'].apply(lambda x: ast.literal_eval(x))\n",
    "credits['crew'] = credits['crew'].apply(lambda x: ast.literal_eval(x))"
   ]
  },
  {
   "cell_type": "code",
   "execution_count": 4,
   "metadata": {},
   "outputs": [],
   "source": [
    "## Preprocess keywords\n",
    "\n",
    "# id to integer\n",
    "keywords['id'] = pd.to_numeric(keywords['id'])\n",
    "keywords.drop_duplicates('id', inplace=True)\n",
    "\n",
    "# String to list\n",
    "keywords['keywords'] = keywords['keywords'].apply(lambda x: ast.literal_eval(x))"
   ]
  },
  {
   "cell_type": "code",
   "execution_count": 5,
   "metadata": {},
   "outputs": [],
   "source": [
    "## Preprocess links\n",
    "\n",
    "# When reading missing tmdbId values they are set to nan and rest to float\n",
    "#  -> drop those rows and set tmdbId to int\n",
    "links.dropna(subset=['tmdbId'], inplace=True)\n",
    "links.reset_index(inplace=True, drop=True)\n",
    "links['tmdbId'] = links['tmdbId'].astype(int)"
   ]
  },
  {
   "cell_type": "code",
   "execution_count": 6,
   "metadata": {},
   "outputs": [],
   "source": [
    "## Preprocess ratings\n",
    "\n",
    "# Drop timestamp\n",
    "ratings.drop('timestamp', axis=1, inplace=True)"
   ]
  },
  {
   "cell_type": "code",
   "execution_count": 7,
   "metadata": {},
   "outputs": [],
   "source": [
    "## Preprocess movies metadata (first need to load data)\n",
    "\n",
    "# String to list\n",
    "movies['genres'] = movies['genres'].apply(lambda x: ast.literal_eval(x))\n",
    "\n",
    "# id to integer\n",
    "movies['id'] = pd.to_numeric(movies['id'], errors='coerce')   # Non numeric values set to nan\n",
    "movies.dropna(subset=['id'], inplace=True)   # Drop those nan rows\n",
    "movies.reset_index(inplace=True, drop=True)\n",
    "movies['id'] = movies['id'].astype(int)   # Set id to type int\n",
    "movies.drop_duplicates('id', inplace=True)\n",
    "\n",
    "# Mismatch between tmdbId and movieId\n",
    "links.drop_duplicates('tmdbId', inplace=True)\n",
    "links.drop_duplicates('movieId', inplace=True)"
   ]
  },
  {
   "cell_type": "code",
   "execution_count": 8,
   "metadata": {},
   "outputs": [
    {
     "name": "stdout",
     "output_type": "stream",
     "text": [
      "#Movies in movies 9025\n",
      "#Movies in ratings 9025\n",
      "#Movies in links 9025\n",
      "#Movies in keywords 9025\n",
      "#Movies in credits 9025\n"
     ]
    }
   ],
   "source": [
    "## Make sure all df contain the same set of ids\n",
    "\n",
    "rating_ids = links[ links['movieId'].isin(ratings['movieId']) ]['tmdbId'].values\n",
    "keep_ids = set(rating_ids) & set(movies['id'].values) & set(keywords['id'].values) & set(credits['id'].values)\n",
    "\n",
    "movies = movies[ movies['id'].isin(keep_ids) == True ]\n",
    "links = links[ links['tmdbId'].isin(keep_ids) == True ]\n",
    "ratings = ratings[ ratings['movieId'].isin(links['movieId']) == True ]\n",
    "keywords = keywords[ keywords['id'].isin(keep_ids) == True ]\n",
    "credits = credits[ credits['id'].isin(keep_ids) == True ]\n",
    "\n",
    "# Sanity check\n",
    "print('#Movies in movies', len(movies['id'].unique()))\n",
    "print('#Movies in ratings', len(ratings['movieId'].unique()))\n",
    "print('#Movies in links', len(links['tmdbId'].unique()))\n",
    "print('#Movies in keywords', len(keywords['id'].unique()))\n",
    "print('#Movies in credits', len(credits['id'].unique()))"
   ]
  },
  {
   "cell_type": "code",
   "execution_count": 9,
   "metadata": {},
   "outputs": [],
   "source": [
    "## Map tmdbId in movies to movieId, and id in keywords and credits to movieId by using links\n",
    "\n",
    "links_dict = dict(zip(links['tmdbId'], links['movieId']))\n",
    "movies['movieId'] = movies['id'].apply(lambda x: links_dict[x])\n",
    "keywords['movieId'] = keywords['id'].apply(lambda x: links_dict[x])\n",
    "credits['movieId'] = credits['id'].apply(lambda x: links_dict[x])"
   ]
  },
  {
   "cell_type": "code",
   "execution_count": 10,
   "metadata": {},
   "outputs": [],
   "source": [
    "## We note that movieId in ratings are not consecutive integers so we change that for simplicity with \n",
    "## slicing and such.\n",
    "## We do the same for userId even tough they are consecuative, only for slicing convenience setting first\n",
    "## user with id 0 instead of 1.\n",
    "\n",
    "def convert_ids(values):\n",
    " # Convert ids to consecutive integers (start from 0 for convenience)\n",
    " newIds = {}\n",
    " count = 0\n",
    " for i in values:\n",
    "    if i not in newIds:\n",
    "        newIds[i] = count\n",
    "        count += 1\n",
    " return newIds\n",
    "\n",
    "# Consecutive movieId starting from 0\n",
    "newIds = convert_ids(movies['movieId'].values)\n",
    "ratings['movieId'] = ratings['movieId'].apply(lambda x: newIds[x])\n",
    "movies['movieId'] = movies['movieId'].apply(lambda x: newIds[x])\n",
    "links['movieId'] = links['movieId'].apply(lambda x: newIds[x])\n",
    "keywords['movieId'] = keywords['movieId'].apply(lambda x: newIds[x])\n",
    "credits['movieId'] = credits['movieId'].apply(lambda x: newIds[x])\n",
    "\n",
    "# Consecutive userId starting form 0\n",
    "ratings['userId'] = ratings['userId'].apply(lambda x: x-1)\n",
    "\n",
    "# Sort by movieId and reset index so that indexing is easy\n",
    "movies.sort_values(by=['movieId'], inplace=True)\n",
    "movies.reset_index(inplace=True, drop=True)\n",
    "keywords.sort_values(by=['movieId'], inplace=True)\n",
    "keywords.reset_index(inplace=True, drop=True)\n",
    "credits.sort_values(by=['movieId'], inplace=True)\n",
    "credits.reset_index(inplace=True, drop=True)"
   ]
  },
  {
   "cell_type": "code",
   "execution_count": 11,
   "metadata": {},
   "outputs": [],
   "source": [
    "## Free memory\n",
    "del keep_ids, links_dict, newIds, rating_ids"
   ]
  },
  {
   "cell_type": "markdown",
   "metadata": {},
   "source": [
    "## Data exploratory"
   ]
  },
  {
   "cell_type": "code",
   "execution_count": 12,
   "metadata": {},
   "outputs": [],
   "source": [
    "## Bit of data exploratory:\n",
    "## - find sensible threshold for highly rated movies\n",
    "## - do we need to drop users?\n",
    "## - general information about the data"
   ]
  },
  {
   "cell_type": "code",
   "execution_count": 13,
   "metadata": {},
   "outputs": [
    {
     "data": {
      "text/plain": [
       "count    99810.000000\n",
       "mean         3.542972\n",
       "std          1.057939\n",
       "min          0.500000\n",
       "25%          3.000000\n",
       "50%          4.000000\n",
       "75%          4.000000\n",
       "max          5.000000\n",
       "Name: rating, dtype: float64"
      ]
     },
     "metadata": {},
     "output_type": "display_data"
    },
    {
     "data": {
      "image/png": "[encoded data removed]",
      "text/plain": [
       "<Figure size 640x480 with 1 Axes>"
      ]
     },
     "metadata": {},
     "output_type": "display_data"
    }
   ],
   "source": [
    "# Summary statistics for the ratings\n",
    "display(ratings['rating'].describe())\n",
    "\n",
    "# Histogram of ratings\n",
    "ratings.hist('rating', bins='auto', grid=False)\n",
    "plt.xlabel('Rating')\n",
    "plt.ylabel('Number of ratings')\n",
    "plt.title('')\n",
    "plt.show()"
   ]
  },
  {
   "cell_type": "code",
   "execution_count": 14,
   "metadata": {},
   "outputs": [
    {
     "name": "stdout",
     "output_type": "stream",
     "text": [
      "Number of unique movies:  9025\n",
      "Average number of ratings per movie: 11.1\n"
     ]
    },
    {
     "data": {
      "image/png": "[encoded data removed]",
      "text/plain": [
       "<Figure size 640x480 with 1 Axes>"
      ]
     },
     "metadata": {},
     "output_type": "display_data"
    },
    {
     "name": "stdout",
     "output_type": "stream",
     "text": [
      "Number of unique movies for high ratings:  6141\n",
      "Average number of ratings per movie for high ratings: 8.4\n"
     ]
    },
    {
     "data": {
      "image/png": "[encoded data removed]",
      "text/plain": [
       "<Figure size 640x480 with 1 Axes>"
      ]
     },
     "metadata": {},
     "output_type": "display_data"
    },
    {
     "name": "stdout",
     "output_type": "stream",
     "text": [
      "Number of unique users:  671\n",
      "Average number of ratings per users: 148.7\n"
     ]
    },
    {
     "data": {
      "image/png": "[encoded data removed]",
      "text/plain": [
       "<Figure size 640x480 with 1 Axes>"
      ]
     },
     "metadata": {},
     "output_type": "display_data"
    },
    {
     "name": "stdout",
     "output_type": "stream",
     "text": [
      "Number of unique users who give high ratings:  671\n",
      "Average number of high ratings per users: 76.7\n"
     ]
    },
    {
     "data": {
      "image/png": "[encoded data removed]",
      "text/plain": [
       "<Figure size 640x480 with 1 Axes>"
      ]
     },
     "metadata": {},
     "output_type": "display_data"
    }
   ],
   "source": [
    "## Compare all ratings only with ratings with ratings >= 4 (highly rated)\n",
    "\n",
    "nmovies = len(ratings['movieId'].unique())\n",
    "print(f'Number of unique movies: {nmovies: d}')\n",
    "avgn = len(ratings)/nmovies\n",
    "print(f'Average number of ratings per movie: {avgn:.1f}')\n",
    "ratings.hist('movieId', bins=nmovies, grid=False)\n",
    "plt.xlabel('movieId')\n",
    "plt.ylabel('Number of ratings')\n",
    "plt.title('')\n",
    "plt.show()\n",
    "\n",
    "threshold = 4\n",
    "ratings_high = ratings[ ratings['rating'] >= threshold ].copy()\n",
    "nmovies_high = len(ratings_high['movieId'].unique())\n",
    "print(f'Number of unique movies for high ratings: {nmovies_high: d}')\n",
    "avgn_high = len(ratings_high)/nmovies_high\n",
    "print(f'Average number of ratings per movie for high ratings: {avgn_high:.1f}')\n",
    "ratings.hist('movieId', bins=nmovies_high, grid=False)\n",
    "plt.xlabel('movieId')\n",
    "plt.ylabel('Number of ratings')\n",
    "plt.title('')\n",
    "plt.show()\n",
    "\n",
    "nusers = len(ratings['userId'].unique())\n",
    "print(f'Number of unique users: {nusers: d}')\n",
    "avgn = len(ratings)/nusers\n",
    "print(f'Average number of ratings per users: {avgn:.1f}')\n",
    "ratings.hist('userId', bins=nusers, grid=False)\n",
    "plt.xlabel('userId')\n",
    "plt.ylabel('Number of ratings')\n",
    "plt.title('')\n",
    "plt.show()\n",
    "\n",
    "nusers_high = len(ratings_high['userId'].unique())\n",
    "print(f'Number of unique users who give high ratings: {nusers_high: d}')\n",
    "avgn_high = len(ratings_high)/nusers_high\n",
    "print(f'Average number of high ratings per users: {avgn_high:.1f}')\n",
    "ratings_high.hist('userId', bins=nusers_high, grid=False)\n",
    "plt.xlabel('userId')\n",
    "plt.ylabel('Number of ratings')\n",
    "plt.title('')\n",
    "plt.show()"
   ]
  },
  {
   "cell_type": "code",
   "execution_count": 15,
   "metadata": {},
   "outputs": [
    {
     "data": {
      "text/plain": [
       "count     671.000000\n",
       "mean      148.748137\n",
       "std       230.812421\n",
       "min        19.000000\n",
       "25%        37.000000\n",
       "50%        71.000000\n",
       "75%       160.500000\n",
       "max      2386.000000\n",
       "Name: user ratings count, dtype: float64"
      ]
     },
     "execution_count": 15,
     "metadata": {},
     "output_type": "execute_result"
    }
   ],
   "source": [
    "## Summary statistics for ratings count from users\n",
    "\n",
    "user_stats = ratings.groupby('userId')['movieId'].count().reset_index(name='user ratings count')\n",
    "user_stats['user ratings count'].describe()"
   ]
  },
  {
   "cell_type": "code",
   "execution_count": 16,
   "metadata": {},
   "outputs": [
    {
     "data": {
      "text/plain": [
       "count     671.000000\n",
       "mean       76.670641\n",
       "std       105.968076\n",
       "min         1.000000\n",
       "25%        20.000000\n",
       "50%        41.000000\n",
       "75%        88.500000\n",
       "max      1113.000000\n",
       "Name: user ratings count, dtype: float64"
      ]
     },
     "execution_count": 16,
     "metadata": {},
     "output_type": "execute_result"
    }
   ],
   "source": [
    "## Summary statistics for high ratings count from users\n",
    "\n",
    "user_stats = ratings_high.groupby('userId')['movieId'].count().reset_index(name='user ratings count')\n",
    "user_stats['user ratings count'].describe()"
   ]
  },
  {
   "cell_type": "code",
   "execution_count": 17,
   "metadata": {},
   "outputs": [
    {
     "data": {
      "text/plain": [
       "count    9025.000000\n",
       "mean       11.059280\n",
       "std        24.095433\n",
       "min         1.000000\n",
       "25%         1.000000\n",
       "50%         3.000000\n",
       "75%         9.000000\n",
       "max       341.000000\n",
       "Name: movie ratings count, dtype: float64"
      ]
     },
     "execution_count": 17,
     "metadata": {},
     "output_type": "execute_result"
    }
   ],
   "source": [
    "## Summary statistics for ratings count of movies\n",
    "\n",
    "movies_stats = ratings.groupby('movieId')['userId'].count().reset_index(name='movie ratings count')\n",
    "movies_stats['movie ratings count'].describe()"
   ]
  },
  {
   "cell_type": "code",
   "execution_count": 18,
   "metadata": {},
   "outputs": [
    {
     "data": {
      "text/plain": [
       "count    6141.000000\n",
       "mean        8.377463\n",
       "std        18.350359\n",
       "min         1.000000\n",
       "25%         1.000000\n",
       "50%         2.000000\n",
       "75%         7.000000\n",
       "max       274.000000\n",
       "Name: movie ratings count, dtype: float64"
      ]
     },
     "execution_count": 18,
     "metadata": {},
     "output_type": "execute_result"
    }
   ],
   "source": [
    "## Summary statistics for high ratings count of movies\n",
    "\n",
    "movies_stats = ratings_high.groupby('movieId')['userId'].count().reset_index(name='movie ratings count')\n",
    "movies_stats['movie ratings count'].describe()"
   ]
  },
  {
   "cell_type": "markdown",
   "metadata": {},
   "source": [
    "From all of this we see that we still go plenty of data even if we only look at movies with ratings >= 4.\n",
    "\\\n",
    "\\\n",
    "We also see that some users only like very few movies, a couple of users only like one movie. This may be a reaons to drop these users, but we don't want to exclude users that e.g. have very specific taste. Insted we would want to try to give these users a good recommendation though content-based methods.\n",
    "\\\n",
    "\\\n",
    "We also see that in general, movies have very few ratings/high ratings. The average for higly rated movies is just above 8 ratings and only 25% of movies have more than 7 ratings. From this information any recommender system built will most suffer from serious popularity bias (which may or may not be good - would say it is good if it is not to much) and to restrict this bias it is better to keep all of the movies, even those who have only\n",
    "been rated once."
   ]
  },
  {
   "cell_type": "code",
   "execution_count": 19,
   "metadata": {},
   "outputs": [],
   "source": [
    "## Free memory\n",
    "del movies_stats, user_stats"
   ]
  },
  {
   "cell_type": "markdown",
   "metadata": {},
   "source": [
    "## Final Data preparation"
   ]
  },
  {
   "cell_type": "code",
   "execution_count": 20,
   "metadata": {},
   "outputs": [],
   "source": [
    "## From data exploratory above we can confidently say that highly rated movies have rating >= 4\n",
    "\n",
    "threshold = 4\n",
    "ratings_full = ratings.copy()\n",
    "ratings_high = ratings[ ratings['rating'] >= threshold ].copy()\n",
    "\n",
    "# Free memory\n",
    "del ratings"
   ]
  },
  {
   "cell_type": "markdown",
   "metadata": {},
   "source": [
    "## Utilities"
   ]
  },
  {
   "cell_type": "code",
   "execution_count": 38,
   "metadata": {},
   "outputs": [
    {
     "data": {
      "text/html": [
       "<div>\n",
       "<style scoped>\n",
       "    .dataframe tbody tr th:only-of-type {\n",
       "        vertical-align: middle;\n",
       "    }\n",
       "\n",
       "    .dataframe tbody tr th {\n",
       "        vertical-align: top;\n",
       "    }\n",
       "\n",
       "    .dataframe thead th {\n",
       "        text-align: right;\n",
       "    }\n",
       "</style>\n",
       "<table border=\"1\" class=\"dataframe\">\n",
       "  <thead>\n",
       "    <tr style=\"text-align: right;\">\n",
       "      <th></th>\n",
       "      <th>userId</th>\n",
       "      <th>movieId</th>\n",
       "      <th>rating</th>\n",
       "    </tr>\n",
       "  </thead>\n",
       "  <tbody>\n",
       "    <tr>\n",
       "      <th>0</th>\n",
       "      <td>0</td>\n",
       "      <td>30</td>\n",
       "      <td>2.5</td>\n",
       "    </tr>\n",
       "    <tr>\n",
       "      <th>1</th>\n",
       "      <td>0</td>\n",
       "      <td>830</td>\n",
       "      <td>3.0</td>\n",
       "    </tr>\n",
       "    <tr>\n",
       "      <th>2</th>\n",
       "      <td>0</td>\n",
       "      <td>856</td>\n",
       "      <td>3.0</td>\n",
       "    </tr>\n",
       "    <tr>\n",
       "      <th>3</th>\n",
       "      <td>0</td>\n",
       "      <td>903</td>\n",
       "      <td>2.0</td>\n",
       "    </tr>\n",
       "    <tr>\n",
       "      <th>4</th>\n",
       "      <td>0</td>\n",
       "      <td>927</td>\n",
       "      <td>4.0</td>\n",
       "    </tr>\n",
       "    <tr>\n",
       "      <th>...</th>\n",
       "      <td>...</td>\n",
       "      <td>...</td>\n",
       "      <td>...</td>\n",
       "    </tr>\n",
       "    <tr>\n",
       "      <th>99999</th>\n",
       "      <td>670</td>\n",
       "      <td>4537</td>\n",
       "      <td>2.5</td>\n",
       "    </tr>\n",
       "    <tr>\n",
       "      <th>100000</th>\n",
       "      <td>670</td>\n",
       "      <td>4538</td>\n",
       "      <td>4.0</td>\n",
       "    </tr>\n",
       "    <tr>\n",
       "      <th>100001</th>\n",
       "      <td>670</td>\n",
       "      <td>4589</td>\n",
       "      <td>4.0</td>\n",
       "    </tr>\n",
       "    <tr>\n",
       "      <th>100002</th>\n",
       "      <td>670</td>\n",
       "      <td>4602</td>\n",
       "      <td>2.5</td>\n",
       "    </tr>\n",
       "    <tr>\n",
       "      <th>100003</th>\n",
       "      <td>670</td>\n",
       "      <td>4688</td>\n",
       "      <td>3.5</td>\n",
       "    </tr>\n",
       "  </tbody>\n",
       "</table>\n",
       "<p>99810 rows × 3 columns</p>\n",
       "</div>"
      ],
      "text/plain": [
       "        userId  movieId  rating\n",
       "0            0       30     2.5\n",
       "1            0      830     3.0\n",
       "2            0      856     3.0\n",
       "3            0      903     2.0\n",
       "4            0      927     4.0\n",
       "...        ...      ...     ...\n",
       "99999      670     4537     2.5\n",
       "100000     670     4538     4.0\n",
       "100001     670     4589     4.0\n",
       "100002     670     4602     2.5\n",
       "100003     670     4688     3.5\n",
       "\n",
       "[99810 rows x 3 columns]"
      ]
     },
     "execution_count": 38,
     "metadata": {},
     "output_type": "execute_result"
    }
   ],
   "source": [
    "ratings_full"
   ]
  },
  {
   "cell_type": "code",
   "execution_count": 39,
   "metadata": {},
   "outputs": [],
   "source": [
    "def getRating(userId, movieId):\n",
    "    # Precondition: user with id userId has given movie with id movieId a rating\n",
    "    # Getter for rating from user with userId and on movie with movieId\n",
    "    return ratings_full[(ratings_full['userId'] == userId) & (ratings_full['movieId'] == movieId)]['rating'].values[0]\n",
    "\n",
    "\n",
    "def getTitle(movieId):\n",
    "    # Getter for title of movie with id movieId\n",
    "    return movies[movies['movieId'] == movieId]['title'].values[0]"
   ]
  },
  {
   "cell_type": "markdown",
   "metadata": {},
   "source": [
    "## Models"
   ]
  },
  {
   "cell_type": "markdown",
   "metadata": {},
   "source": [
    "### Collaborative filtering"
   ]
  },
  {
   "cell_type": "code",
   "execution_count": 22,
   "metadata": {},
   "outputs": [],
   "source": [
    "## Data set up\n",
    "\n",
    "nmovies = len(movies['movieId'].unique())   # All movies, not just highly rated ones\n",
    "\n",
    "# We will use an adjacency-list representation where for each user we have a list of movieIds that he has\n",
    "# rated highly\n",
    "rates_adj = ratings_high.groupby('userId')['movieId'].apply(list).reset_index(name='rates').sort_values('userId')\n",
    "\n",
    "# \"Binarize\" adjecency-list reperesentation so that every list has the same number of items, in order to \n",
    "# use Cosine and Euclidean similarity\n",
    "def binarize(row):\n",
    "    # Encode list of movieIds to a list where indexes are movieIds and element m is 1 if user rates movie \n",
    "    # with movieId = m, otherwise it is 0\n",
    "    movieIds = row[1]\n",
    "    list_ = np.zeros(nmovies, dtype=int)\n",
    "    list_[movieIds] = 1\n",
    "    return list_\n",
    "\n",
    "\n",
    "binarized = rates_adj.apply(binarize, axis=1)\n",
    "rates_adj_binarized = pd.DataFrame({'userId': rates_adj['userId'], 'rates': binarized})"
   ]
  },
  {
   "cell_type": "markdown",
   "metadata": {},
   "source": [
    "### User similarity"
   ]
  },
  {
   "cell_type": "code",
   "execution_count": 23,
   "metadata": {},
   "outputs": [],
   "source": [
    "## Recommend movies by using similar users - Collaborative filtering\n",
    "\n",
    "class Similarity(Enum):\n",
    "    Jaccard = \"Jaccard similarity\"\n",
    "    Cosine = \"Cosine similarity\"\n",
    "    Euclidean = \"Euclidean similarity\"\n",
    "\n",
    "\n",
    "def Jaccard_similarity(user1, user2):\n",
    "    # Measure Jaccard similarity between two users by comparing movies they have rated highly\n",
    "    intersection = len(set(rates_adj['rates'][user1]).intersection(set(rates_adj['rates'][user2])))\n",
    "    union = len(set(rates_adj['rates'][user1]).union(set(rates_adj['rates'][user2])))\n",
    "    return intersection/union\n",
    "\n",
    "\n",
    "def Euclidean_similarity(user1, user2):\n",
    "    # Measure Euclidean similarity between two users by comparing movies they have rated highly\n",
    "    ratings1 = rates_adj_binarized['rates'][user1]\n",
    "    ratings2 = rates_adj_binarized['rates'][user2]  \n",
    "    return np.linalg.norm(ratings1-ratings2)\n",
    "    \n",
    "\n",
    "def Cosine_similarity(user1, user2):\n",
    "    # Measure Cosine similarity between two users by comparing movies they have rated highly\n",
    "    ratings1 = rates_adj_binarized['rates'][user1]\n",
    "    ratings2 = rates_adj_binarized['rates'][user2]  \n",
    "    return np.dot(ratings1, ratings2)/(np.linalg.norm(ratings1)*np.linalg.norm(ratings2))\n",
    "\n",
    "\n",
    "def recommend_distance(userId, number=10, similarity=Similarity.Jaccard):\n",
    "    # Recommend \"number\" of movies to user with id \"userId\" by using specific measure of \"similarity\"\n",
    "\n",
    "    # If user has not given high ratings (i.e. not in rates_adj) then we can't make recommendations\n",
    "    if(userId not in rates_adj['userId'].values):\n",
    "        print(f'Can not make recommendations because user with userId=%d has given no ratings >=4' %(userId))\n",
    "        return []\n",
    "\n",
    "    # Type checking for similarity\n",
    "    if not isinstance(similarity, Similarity):\n",
    "        raise TypeError('similarity must be an instance of Similarity Enum')\n",
    "\n",
    "    # Measure similarity between user with id \"userId\" and all other users\n",
    "    if similarity == Similarity.Jaccard:\n",
    "        similar = rates_adj['userId'].apply(lambda x: Jaccard_similarity(userId, x)).tolist()\n",
    "    elif similarity == Similarity.Cosine:\n",
    "        similar = rates_adj['userId'].apply(lambda x: Cosine_similarity(userId, x)).tolist()\n",
    "    elif similarity == Similarity.Euclidean:\n",
    "        similar = rates_adj['userId'].apply(lambda x: Euclidean_similarity(userId, x)).tolist()\n",
    "\n",
    "    # Heuristic: \n",
    "    # Find \"number\" of movies from most 3 most similar user. If they have not highly rated \"number\" of movies we \n",
    "    # use 3 next most similar user, and so on\n",
    "    # First recommend movies from 3 most similar users with rating 5.0 and sort by popularity, then with \n",
    "    # rating 4.5 and finally with rating 4.0\n",
    "\n",
    "    high_ratings = [5.0, 4.5, 4.0]\n",
    "    recommendations = []\n",
    "    cnt = 0\n",
    "    similar = np.argsort(similar)[:-1][::-1]   # Exlude ourselves and reverse\n",
    "    i = 0\n",
    "    j = 3   # Take three users a time\n",
    "    while(i < len(similar)):\n",
    "        similarIds = similar[i:j]\n",
    "        i += j\n",
    "        for rating in high_ratings:\n",
    "            # movieIds of liked movies (with rating=\"rating\") from 3 most similar users but not same movies \n",
    "            # as user has seen or same movies user has been previosly recommended\n",
    "            movieIds = ratings_high[ (ratings_high['rating'] == rating) &\n",
    "                                     (ratings_high['userId'].isin(similarIds)) & \n",
    "                                     (~ratings_high['movieId'].isin(ratings_full[ ratings_full['userId'] == userId ]['movieId'])) &\n",
    "                                     (~ratings_high['movieId'].isin(recommendations))\n",
    "                                ].sort_values('rating', ascending=False)['movieId'].unique()\n",
    "            movieIds = movies[ movies['movieId'].isin(movieIds) ].sort_values('popularity', ascending=False)['movieId'].tolist()\n",
    "            for movieId in movieIds:\n",
    "                recommendations.append(movieId)\n",
    "                cnt += 1\n",
    "                if(cnt == number):\n",
    "                    return [getTitle(x) for x in recommendations]\n",
    "\n",
    "    return [getTitle(x) for x in recommendations]"
   ]
  },
  {
   "cell_type": "markdown",
   "metadata": {},
   "source": [
    "### Frequent itemsets - Apriori"
   ]
  },
  {
   "cell_type": "code",
   "execution_count": 24,
   "metadata": {},
   "outputs": [],
   "source": [
    "## Encode ratings where each row is a user and each column a movie so that element (u,m) is 1 if user u\n",
    "## higly rates movie m, otherwise 0\n",
    "\n",
    "# List of lists of movieIds that users rate highly (\"baskets\") - TransactionEncoder needs data in list of lists\n",
    "ratings_ratings = ( ratings_high.groupby('userId')['movieId'].apply(list).reset_index(name='ratings')\n",
    "                    .sort_values('userId')['ratings'].tolist() )\n",
    "\n",
    "# Encode (one hot)\n",
    "te = TransactionEncoder()\n",
    "te_ary = te.fit_transform(ratings_ratings, sparse=True)\n",
    "ratings_encoded = pd.DataFrame.sparse.from_spmatrix(te_ary, columns=te.columns_)"
   ]
  },
  {
   "cell_type": "code",
   "execution_count": 25,
   "metadata": {},
   "outputs": [],
   "source": [
    "## Get almost all frequent itemsets (need to allow low support because most movies are rated few times as \n",
    "## seen in data exploration) of max size 3 and then calculate assosication rules for the itemsets \n",
    "\n",
    "# Memory is limited...\n",
    "try:\n",
    "    del frequent_itemsets, frequent_rules\n",
    "except:\n",
    "    pass\n",
    "\n",
    "frequent_itemsets = fpgrowth(ratings_encoded, min_support=0.015, max_len=3, use_colnames=True)\n",
    "frequent_rules = association_rules(frequent_itemsets, metric=\"lift\", min_threshold = 1, support_only=False)"
   ]
  },
  {
   "cell_type": "code",
   "execution_count": 26,
   "metadata": {},
   "outputs": [
    {
     "name": "stdout",
     "output_type": "stream",
     "text": [
      "#Unique movies in frequent itemsets: 968\n"
     ]
    }
   ],
   "source": [
    "# Number of unique movies in frequent itemsets\n",
    "frequent_itemsets['length'] = frequent_itemsets['itemsets'].apply(lambda x: len(x))\n",
    "tmp = frequent_itemsets[frequent_itemsets['length'] >= 2]['itemsets'].apply(tuple).values\n",
    "freqmovies = [item for sublist in tmp for item in sublist]\n",
    "print('#Unique movies in frequent itemsets:', len(np.unique(freqmovies)))"
   ]
  },
  {
   "cell_type": "code",
   "execution_count": 27,
   "metadata": {},
   "outputs": [],
   "source": [
    "# Free memory\n",
    "del ratings_ratings, te_ary, ratings_encoded, frequent_itemsets, tmp, freqmovies"
   ]
  },
  {
   "cell_type": "code",
   "execution_count": 28,
   "metadata": {},
   "outputs": [],
   "source": [
    "## Clean frequent_rules table\n",
    "\n",
    "# We are only interested in antecedents singletons and pairs, and consequents singletons\n",
    "frequent_rules['antecedents lenght'] = frequent_rules['antecedents'].apply(lambda x: len(x))\n",
    "frequent_rules['consequents lenght'] = frequent_rules['consequents'].apply(lambda x: len(x))\n",
    "frequent_rules = frequent_rules[ (frequent_rules['antecedents lenght'] <= 2)\n",
    "                & (frequent_rules['consequents lenght'] == 1) ]\n",
    "\n",
    "# Want to sort movieIds inside pairs for convenience\n",
    "frequent_rules['antecedents'] = frequent_rules['antecedents'].apply(sorted).apply(tuple)\n",
    "frequent_rules['consequents'] = frequent_rules['consequents'].apply(tuple).apply(lambda x: int(x[0]))\n",
    "frequent_rules.reset_index(inplace=True, drop=True)"
   ]
  },
  {
   "cell_type": "code",
   "execution_count": 29,
   "metadata": {},
   "outputs": [],
   "source": [
    "def recommend_apriori(userId, number):\n",
    "    # Recommend \"number\" of movies for user with id \"userId\" by using lift measurement from frequent\n",
    "    # itemsets\n",
    "\n",
    "    # If user has not given high ratings (i.e. not in rates_adj) then we can't make recommendations\n",
    "    if(userId not in ratings_high['userId'].unique()):\n",
    "        print(f'Can not make recommendations because user with userId=%d has given no ratings >=4' %(userId))\n",
    "        return []\n",
    "\n",
    "    # Remove movies user has seen (from ratings_full)\n",
    "    candidates = frequent_rules[ ~frequent_rules['consequents'].isin(ratings_full[ratings_full['userId'] == userId]['movieId'].values) ].copy()\n",
    "\n",
    "    # Find all antecedents itemsets that is a part of any 1-combination or 2-combination of the\n",
    "    # movies that the user has seen and likes\n",
    "    movieIds = ratings_high[ ratings_high['userId'] == userId ]['movieId'].unique()\n",
    "    comb = [x for x in combinations(movieIds, 1)] + [x for x in combinations(movieIds, 2)]\n",
    "    candidates = candidates[ candidates['antecedents'].isin(comb) ]\n",
    "    candidates.sort_values('lift', ascending=False, inplace=True)\n",
    "    \n",
    "    # Remove duplicate consequents singletons - keep the one with highest lift\n",
    "    candidates.drop_duplicates('consequents', keep='first', inplace=True)\n",
    "    \n",
    "    # Message to user if we can't recommend \"numbers\" movies to him\n",
    "    if(number > len(candidates)):\n",
    "        print('Not able to recommend', number, 'movies.', 'Only able to recommend', len(candidates),\n",
    "                'movies:')\n",
    "        \n",
    "    # Take \"number\" movies with highest lift\n",
    "    recommendations = [x for x in candidates['consequents'][:number].values.tolist()]\n",
    "\n",
    "    return [getTitle(x) for x in recommendations]"
   ]
  },
  {
   "cell_type": "markdown",
   "metadata": {},
   "source": [
    "### Movie similarity"
   ]
  },
  {
   "cell_type": "code",
   "execution_count": 30,
   "metadata": {},
   "outputs": [
    {
     "data": {
      "text/html": [
       "<div>\n",
       "<style scoped>\n",
       "    .dataframe tbody tr th:only-of-type {\n",
       "        vertical-align: middle;\n",
       "    }\n",
       "\n",
       "    .dataframe tbody tr th {\n",
       "        vertical-align: top;\n",
       "    }\n",
       "\n",
       "    .dataframe thead th {\n",
       "        text-align: right;\n",
       "    }\n",
       "</style>\n",
       "<table border=\"1\" class=\"dataframe\">\n",
       "  <thead>\n",
       "    <tr style=\"text-align: right;\">\n",
       "      <th></th>\n",
       "      <th>movieId</th>\n",
       "      <th>description</th>\n",
       "    </tr>\n",
       "  </thead>\n",
       "  <tbody>\n",
       "    <tr>\n",
       "      <th>0</th>\n",
       "      <td>0</td>\n",
       "      <td>Led by Woody, Andy's toys live happily in his ...</td>\n",
       "    </tr>\n",
       "    <tr>\n",
       "      <th>1</th>\n",
       "      <td>1</td>\n",
       "      <td>When siblings Judy and Peter discover an encha...</td>\n",
       "    </tr>\n",
       "    <tr>\n",
       "      <th>2</th>\n",
       "      <td>2</td>\n",
       "      <td>A family wedding reignites the ancient feud be...</td>\n",
       "    </tr>\n",
       "    <tr>\n",
       "      <th>3</th>\n",
       "      <td>3</td>\n",
       "      <td>Cheated on, mistreated and stepped on, the wom...</td>\n",
       "    </tr>\n",
       "    <tr>\n",
       "      <th>4</th>\n",
       "      <td>4</td>\n",
       "      <td>Just when George Banks has recovered from his ...</td>\n",
       "    </tr>\n",
       "  </tbody>\n",
       "</table>\n",
       "</div>"
      ],
      "text/plain": [
       "   movieId                                        description\n",
       "0        0  Led by Woody, Andy's toys live happily in his ...\n",
       "1        1  When siblings Judy and Peter discover an encha...\n",
       "2        2  A family wedding reignites the ancient feud be...\n",
       "3        3  Cheated on, mistreated and stepped on, the wom...\n",
       "4        4  Just when George Banks has recovered from his ..."
      ]
     },
     "execution_count": 30,
     "metadata": {},
     "output_type": "execute_result"
    }
   ],
   "source": [
    "## Create a df that has important movie description as a string of words - we use overview (without words\n",
    "# such as \"the\", \"and\", ...), top 3 actors?, director, keywords, genre?\n",
    "\n",
    "d = {'movieId': movies['movieId'].values, 'description': [\"\"]*len(movies)}\n",
    "movies_description = pd.DataFrame(data=d)\n",
    "movies_description\n",
    "\n",
    "## Create a long string with movie description where we use information such as overview, actors, directors\n",
    "## keywords, etc.\n",
    "\n",
    "for Id in movies_description['movieId']:\n",
    "    description = ''\n",
    "\n",
    "    # Get movie overview\n",
    "    try:\n",
    "        description += movies.loc[Id,'overview']\n",
    "    except:\n",
    "        continue\n",
    "\n",
    "    # Get top 5 actors from movie\n",
    "    for i in range(5):\n",
    "        try: \n",
    "            description += ' ' + credits['cast'][Id][i]['name'].split()[-1]   # Only use last name of actors\n",
    "        except:\n",
    "            continue\n",
    "\n",
    "    # Get directors\n",
    "    for i in range(len(credits['crew'][Id])):\n",
    "        if credits['crew'][Id][i]['department'] == 'Directing':\n",
    "            description += ' ' + credits['crew'][Id][i]['name'].split()[-1]   # Only use last name of directors\n",
    "\n",
    "    # Get genre\n",
    "    for i in range(len(movies['genres'][Id])):\n",
    "        description += ' ' + movies['genres'][Id][i]['name']\n",
    "\n",
    "    # Get keywords\n",
    "    for i in range(len(keywords['keywords'][Id])):\n",
    "        description += ' ' + keywords['keywords'][Id][i]['name']\n",
    "\n",
    "    movies_description.loc[Id, 'description'] = description \n",
    "    \n",
    "\n",
    "movies_description.head()"
   ]
  },
  {
   "cell_type": "code",
   "execution_count": 31,
   "metadata": {},
   "outputs": [
    {
     "data": {
      "text/plain": [
       "(9025, 41951)"
      ]
     },
     "execution_count": 31,
     "metadata": {},
     "output_type": "execute_result"
    }
   ],
   "source": [
    "# Vectorize movie descriptions\n",
    "vectorizer = CountVectorizer(stop_words='english') # Remove stop words\n",
    "matrix = vectorizer.fit_transform(movies_description['description'])\n",
    "\n",
    "matrix.shape # (number of movies, total number of words in vectors)"
   ]
  },
  {
   "cell_type": "code",
   "execution_count": 32,
   "metadata": {},
   "outputs": [],
   "source": [
    "def recommend_content(userId,number):\n",
    "\n",
    "    # If user has not given high ratings (i.e. not in rates_adj) then we can't make recommendations\n",
    "    if(userId not in ratings_high['userId'].unique()):\n",
    "        print(f'Can not make recommendations because user with userId=%d has given no ratings >=4' %(userId))\n",
    "        return []\n",
    "        \n",
    "    n = 0\n",
    "    i = 0\n",
    "    recommendations_ids = []\n",
    "    seen_movies = ratings_full[ratings_full['userId']==userId]['movieId'].tolist()\n",
    "    liked_movies = ratings_high[ (ratings_high['userId'] == userId) ].sort_values('rating', ascending=False)['movieId'].values\n",
    "    while(n <= number): # While we haven't gotten n reccomendations\n",
    "        movieId = liked_movies[i] # Id of liked film\n",
    "        vec_id = matrix[movieId].toarray().T\n",
    "        with np.errstate(divide='ignore',invalid='ignore'):\n",
    "            cosine_similarity = np.divide(matrix.dot(vec_id).reshape((nmovies,)),\n",
    "                norm(matrix,axis=1)) # Cosine similarity\n",
    "            cosine_similarity[np.isnan(cosine_similarity)] = np.NINF\n",
    "        for t in range(1,5): # Get 3 reccomended movies from each liked movie\n",
    "            reccomended = np.argsort(cosine_similarity,axis=0)[-t]\n",
    "            if(reccomended not in recommendations_ids and reccomended not in seen_movies):\n",
    "                recommendations_ids.append(reccomended)\n",
    "                n += 1     \n",
    "        i += 1\n",
    "\n",
    "    return [getTitle(idx) for idx in recommendations_ids][:number]"
   ]
  },
  {
   "cell_type": "markdown",
   "metadata": {},
   "source": [
    "## Testing"
   ]
  },
  {
   "cell_type": "code",
   "execution_count": 33,
   "metadata": {},
   "outputs": [],
   "source": [
    "# Can be hard to find a \"numeric\" measurement of how well the system can recommend movies\n",
    "# One good way is just to to \"human\" testing, i.e. compare movies that the user likes with movies that we\n",
    "# have recommended for the user"
   ]
  },
  {
   "cell_type": "code",
   "execution_count": 44,
   "metadata": {},
   "outputs": [],
   "source": [
    "def recommend_for_user(userId,number):\n",
    "    movieIds = ratings_full[ratings_full['userId'] == userId].sort_values('rating', ascending=False)['movieId'].values[:number]\n",
    "    likedTitles = [getTitle(i) for i in movieIds]\n",
    "    distance = recommend_distance(userId, number, similarity=Similarity.Jaccard)\n",
    "    freq = recommend_apriori(userId,number)\n",
    "    content = recommend_content(userId,number)\n",
    "    appears_twice = list((set(distance) & set(freq)) or (set(distance) & set(content)) or (set(freq) & set(content)))\n",
    "    print('Favourite movies for user %d\\n'%(userId),likedTitles)\n",
    "    print('\\nSimilar users method:\\n',distance)\n",
    "    print('\\nFrequent itemsets method:\\n',freq)\n",
    "    print('\\nSimilar movies method:\\n',content)\n",
    "    print('\\nAppears in atleast two methods:\\n',appears_twice)"
   ]
  },
  {
   "cell_type": "code",
   "execution_count": 42,
   "metadata": {},
   "outputs": [
    {
     "name": "stdout",
     "output_type": "stream",
     "text": [
      "Favourite movies for user 100\n",
      " ['Inception', 'The Lord of the Rings: The Fellowship of the Ring', 'The Lord of the Rings: The Two Towers', 'The Dark Knight', 'Raiders of the Lost Ark', 'Batman Begins', 'The Empire Strikes Back', 'The Matrix', 'Saving Private Ryan', 'Star Trek IV: The Voyage Home', 'Star Trek II: The Wrath of Khan', 'Indiana Jones and the Last Crusade', 'Back to the Future', 'The Lord of the Rings: The Return of the King', 'Aliens', 'Return of the Jedi', 'Terminator 2: Judgment Day', 'District 9', \"Schindler's List\", 'Star Trek']\n",
      "\n",
      "Similar users method:\n",
      " ['The Avengers', 'Jurassic Park', 'Forrest Gump', 'The Silence of the Lambs', 'The Martian', 'Iron Man', 'Harry Potter and the Order of the Phoenix', 'E.T. the Extra-Terrestrial', 'Pulp Fiction', 'Back to the Future Part II', \"The Hitchhiker's Guide to the Galaxy\", 'Office Space', 'Meet the Fockers', 'The 40 Year Old Virgin', 'Harold & Kumar Go to White Castle', 'Star Wars: The Force Awakens', 'Harry Potter and the Half-Blood Prince', 'The Departed', 'Independence Day', 'Men in Black II']\n",
      "\n",
      "Frequent itemsets method:\n",
      " ['In Bruges', 'Ran', 'Star Trek VI: The Undiscovered Country', 'Guardians of the Galaxy', 'Captain America: The Winter Soldier', 'The Avengers', 'Zombieland', 'X-Men: First Class', 'Network', 'Sherlock Holmes', 'The Grifters', 'The Dark Knight Rises', 'Source Code', 'No Country for Old Men', 'Tron', 'Patton', 'Star Wars: The Force Awakens', 'The Killing Fields', 'The Prestige', 'Iron Man']\n",
      "\n",
      "Similar movies method:\n",
      " ['Flatliners', 'The Count of Monte Cristo', 'Cypher', 'The Lord of the Rings', 'The Hobbit: An Unexpected Journey', 'Indiana Jones and the Kingdom of the Crystal Skull', 'Indiana Jones and the Temple of Doom', 'The Dark Knight Rises', 'Batman: Under the Red Hood', 'Batman', 'Star Trek: The Motion Picture', 'Star Trek V: The Final Frontier', 'Star Trek III: The Search for Spock', 'The Matrix Revolutions', 'The Matrix Reloaded', 'Jupiter Ascending', 'Why We Fight', 'Soldier of Orange', 'The Great Raid', 'Silent Running']\n",
      "\n",
      "Appears in atleast two methods:\n",
      " ['Iron Man', 'Star Wars: The Force Awakens', 'The Avengers']\n"
     ]
    }
   ],
   "source": [
    "recommend_for_user(100,20)"
   ]
  },
  {
   "cell_type": "code",
   "execution_count": 43,
   "metadata": {},
   "outputs": [
    {
     "name": "stdout",
     "output_type": "stream",
     "text": [
      "Favourite movies for user 400\n",
      " ['Toy Story', 'Planet of the Apes', 'Alien³', 'Star Trek: First Contact', 'Star Trek II: The Wrath of Khan', 'Star Trek III: The Search for Spock', 'Star Trek IV: The Voyage Home', 'Men in Black', 'Star Wars', 'Godzilla', 'King Kong vs. Godzilla', 'The Fly', 'The Matrix', 'Groundhog Day', 'The Rocky Horror Picture Show', 'Phantasm', 'Spaceballs', 'Galaxy Quest', \"Wayne's World\", 'Close Encounters of the Third Kind']\n",
      "\n",
      "Similar users method:\n",
      " ['The Spy Who Loved Me', 'Dune', 'Excalibur', 'Escape to Witch Mountain', 'Flubber', 'Outland', 'Pink Floyd: The Wall', 'Phantom of the Paradise', 'The Godfather', 'The Lord of the Rings: The Fellowship of the Ring', 'Shaft', 'The Fifth Element', 'DragonHeart', 'Gladiator', 'Terminator 2: Judgment Day', 'Braveheart', \"Sgt. Pepper's Lonely Hearts Club Band\", 'The Terminator', 'The Sixth Sense', 'Shrek']\n",
      "\n",
      "Frequent itemsets method:\n",
      " ['Manhattan Murder Mystery', 'Deep Impact', 'Cinderella', 'Peter Pan', 'The Last Picture Show', 'Dumbo', 'Network', 'King Kong', 'Pinocchio', 'The Killing Fields', 'Evil Dead II', 'Patton', 'Basic Instinct', 'Crimes and Misdemeanors', 'The Exorcist', 'Alice in Wonderland', 'Body Heat', 'The Player', 'Beverly Hills Cop', 'Some Like It Hot']\n",
      "\n",
      "Similar movies method:\n",
      " ['Toy Story 2', 'Toy Story 3', 'Small Soldiers', 'Mission to Mars', 'Avatar', 'Star Trek: Insurrection', 'Star Trek: Nemesis', 'Star Trek: The Motion Picture', 'Star Trek V: The Final Frontier', 'Star Wars: The Force Awakens', \"Ender's Game\", 'Communion', 'A Trip to the Moon', 'Mothra', 'Godzilla 1985', 'Mothra vs. Godzilla', 'King Kong', 'The Fly II', 'The Island of Dr. Moreau', 'Monkey Shines']\n",
      "\n",
      "Appears in atleast two methods:\n",
      " ['King Kong']\n"
     ]
    }
   ],
   "source": [
    "recommend_for_user(400,20)"
   ]
  },
  {
   "cell_type": "code",
   "execution_count": null,
   "metadata": {},
   "outputs": [],
   "source": []
  }
 ],
 "metadata": {
  "kernelspec": {
   "display_name": "Python 3.8.8 ('base')",
   "language": "python",
   "name": "python3"
  },
  "language_info": {
   "codemirror_mode": {
    "name": "ipython",
    "version": 3
   },
   "file_extension": ".py",
   "mimetype": "text/x-python",
   "name": "python",
   "nbconvert_exporter": "python",
   "pygments_lexer": "ipython3",
   "version": "3.8.8"
  },
  "orig_nbformat": 4,
  "vscode": {
   "interpreter": {
    "hash": "acc9325828607a390403d2341489c626fba28d8536b82745d63ec9c7c8700344"
   }
  }
 },
 "nbformat": 4,
 "nbformat_minor": 2
}
